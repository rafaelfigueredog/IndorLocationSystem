{
 "cells": [
  {
   "cell_type": "code",
   "execution_count": 29,
   "metadata": {},
   "outputs": [],
   "source": [
    "import pandas as pd"
   ]
  },
  {
   "cell_type": "code",
   "execution_count": 45,
   "metadata": {},
   "outputs": [],
   "source": [
    "arquivo = open('dados/experimento1/10cm.txt', 'r')\n",
    "dados = arquivo.read()\n",
    "stsize"
   ]
  },
  {
   "cell_type": "code",
   "execution_count": 46,
   "metadata": {},
   "outputs": [
    {
     "data": {
      "text/plain": [
       "'[-44, -48, -48, -48, -44, -46, -42, -42, -48, -44, -44, -44, -42, -42, -40, -42, -38, -40, -40, -40, -40, -38, -40, -39, -46, -47, -44, -41, -42, -41, -41, -42, -41, -48, -44, -45, -48, -48, -45, -47, -40, -41, -45, -48, -48, -41, -45, -45, -45, -48, -45, -43, -45, -43, -41, -41, -41, -45, -45, -48, -45, -45, -42, -42, -43, -39, -41, -41, -41, -45, -40, -40, -41, -48, -40, -47, -45, -40, -48, -45, -40, -48, -41, -43, -41, -43, -45, -45, -48, -45, -43, -42, -45, -43, -43, -43, -43, -43, -41, -41, -39, -40, -41, -40, -44, -48, -44, -43, -41, -41, -41, -42, -41, -41, -42, -41, -40, -43, -41, -45, -47, -45, -48, -45, -43, -41, -39, -40, -41, -40, -49, -42, -42, -43, -45, -42, -45, -45, -43, -44, -44, -48, -42, -43, -45, -42, -45, -42, -40, -39, -41, -42, -40, -45, -46, -45, -41, -42, -44, -44, -41, -42, -42, -41, -41, -39, -40, -48, -44, -44, -42, -42, -44, -42, -42, -41, -40, -42, -40, -40, -46, -40, -42, -42, -42, -42, -38, -40, -40, -40, -40, -44, -42]'"
      ]
     },
     "execution_count": 46,
     "metadata": {},
     "output_type": "execute_result"
    }
   ],
   "source": [
    "dados[]"
   ]
  },
  {
   "cell_type": "code",
   "execution_count": null,
   "metadata": {},
   "outputs": [],
   "source": []
  },
  {
   "cell_type": "code",
   "execution_count": null,
   "metadata": {},
   "outputs": [],
   "source": []
  },
  {
   "cell_type": "code",
   "execution_count": null,
   "metadata": {},
   "outputs": [],
   "source": []
  },
  {
   "cell_type": "code",
   "execution_count": null,
   "metadata": {},
   "outputs": [],
   "source": []
  },
  {
   "cell_type": "code",
   "execution_count": null,
   "metadata": {},
   "outputs": [],
   "source": []
  },
  {
   "cell_type": "code",
   "execution_count": null,
   "metadata": {},
   "outputs": [],
   "source": []
  }
 ],
 "metadata": {},
 "nbformat": 4,
 "nbformat_minor": 2
}
