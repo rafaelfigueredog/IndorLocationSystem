{
 "cells": [
  {
   "cell_type": "code",
   "execution_count": 5,
   "metadata": {},
   "outputs": [],
   "source": [
    "import seaborn as sns\n",
    "import pandas as pd\n",
    "import matplotlib.pyplot as plt\n"
   ]
  },
  {
   "cell_type": "code",
   "execution_count": 6,
   "metadata": {},
   "outputs": [
    {
     "ename": "FileNotFoundError",
     "evalue": "[Errno 2] No such file or directory: 'dados/50cm.txt'",
     "output_type": "error",
     "traceback": [
      "\u001b[0;31m---------------------------------------------------------------------------\u001b[0m",
      "\u001b[0;31mFileNotFoundError\u001b[0m                         Traceback (most recent call last)",
      "\u001b[0;32m<ipython-input-6-f6b604ac5006>\u001b[0m in \u001b[0;36m<module>\u001b[0;34m\u001b[0m\n\u001b[1;32m      5\u001b[0m     \u001b[0mmedida\u001b[0m \u001b[0;34m=\u001b[0m \u001b[0mlistaDeMedidas\u001b[0m\u001b[0;34m[\u001b[0m\u001b[0mi\u001b[0m\u001b[0;34m]\u001b[0m\u001b[0;34m\u001b[0m\u001b[0;34m\u001b[0m\u001b[0m\n\u001b[1;32m      6\u001b[0m     \u001b[0mnomeDoAquivo\u001b[0m \u001b[0;34m=\u001b[0m \u001b[0;34m\"dados/\"\u001b[0m \u001b[0;34m+\u001b[0m \u001b[0mstr\u001b[0m\u001b[0;34m(\u001b[0m\u001b[0mmedida\u001b[0m\u001b[0;34m)\u001b[0m \u001b[0;34m+\u001b[0m \u001b[0;34m'cm.txt'\u001b[0m\u001b[0;34m\u001b[0m\u001b[0;34m\u001b[0m\u001b[0m\n\u001b[0;32m----> 7\u001b[0;31m     \u001b[0marquivo\u001b[0m \u001b[0;34m=\u001b[0m \u001b[0mopen\u001b[0m\u001b[0;34m(\u001b[0m\u001b[0mnomeDoAquivo\u001b[0m\u001b[0;34m,\u001b[0m \u001b[0;34m'r'\u001b[0m\u001b[0;34m)\u001b[0m\u001b[0;34m\u001b[0m\u001b[0;34m\u001b[0m\u001b[0m\n\u001b[0m\u001b[1;32m      8\u001b[0m     \u001b[0mdados\u001b[0m \u001b[0;34m=\u001b[0m \u001b[0marquivo\u001b[0m\u001b[0;34m.\u001b[0m\u001b[0mread\u001b[0m\u001b[0;34m(\u001b[0m\u001b[0;34m)\u001b[0m\u001b[0;34m\u001b[0m\u001b[0;34m\u001b[0m\u001b[0m\n\u001b[1;32m      9\u001b[0m     \u001b[0mstringSize\u001b[0m \u001b[0;34m=\u001b[0m \u001b[0mlen\u001b[0m\u001b[0;34m(\u001b[0m\u001b[0mdados\u001b[0m\u001b[0;34m)\u001b[0m\u001b[0;34m\u001b[0m\u001b[0;34m\u001b[0m\u001b[0m\n",
      "\u001b[0;31mFileNotFoundError\u001b[0m: [Errno 2] No such file or directory: 'dados/50cm.txt'"
     ]
    }
   ],
   "source": [
    "experimento = {}\n",
    "listaDeMedidas =[50]\n",
    "sizeMedidas = len(listaDeMedidas)\n",
    "for i in range(sizeMedidas):\n",
    "    medida = listaDeMedidas[i]\n",
    "    nomeDoAquivo = \"dados/\" + str(medida) + 'cm.txt'\n",
    "    arquivo = open(nomeDoAquivo, 'r')\n",
    "    dados = arquivo.read()\n",
    "    stringSize = len(dados)\n",
    "    dados = dados[1:stringSize-1]\n",
    "    dados = dados.split(', ')\n",
    "    dados = dados[0:120]\n",
    "    sizeDados = len(dados)\n",
    "    for j in range(sizeDados):\n",
    "        dados[j] = int(dados[j])\n",
    "    coluna = str(medida) + 'cm'\n",
    "    experimento[coluna] = dados\n",
    "experimento = pd.DataFrame(data=experimento)\n",
    "experimento"
   ]
  },
  {
   "cell_type": "code",
   "execution_count": null,
   "metadata": {},
   "outputs": [],
   "source": [
    "# Medidas de Tendência Central e Medidas de Dispersão\n",
    "\n",
    "dispesao = {'Medidas': ['Média', 'Variância','Desvio Padrão', 'Amplitude']}\n",
    "\n",
    "for i in list(experimento.columns):\n",
    "    dispesao[i] = []\n",
    "\n",
    "for i in list(experimento.columns):\n",
    "    \n",
    "    #calculando\n",
    "    media = experimento[i].mean()\n",
    "    variancia =  experimento[i].var()\n",
    "    desvioPadrao = experimento[i].std()\n",
    "    amplitude = experimento[i].max() - experimento[i].min()\n",
    "    \n",
    "    #adicionando\n",
    "    dispesao[i].append(round(media, 2))\n",
    "    dispesao[i].append(round(variancia, 2)) \n",
    "    dispesao[i].append(round(desvioPadrao, 2)) \n",
    "    dispesao[i].append(amplitude) \n",
    "\n",
    "dispesao = pd.DataFrame(data=dispesao)"
   ]
  },
  {
   "cell_type": "code",
   "execution_count": null,
   "metadata": {},
   "outputs": [],
   "source": [
    "dispesao"
   ]
  },
  {
   "cell_type": "code",
   "execution_count": null,
   "metadata": {},
   "outputs": [],
   "source": [
    "experimento.describe()"
   ]
  },
  {
   "cell_type": "code",
   "execution_count": null,
   "metadata": {},
   "outputs": [],
   "source": [
    "# library & dataset\n",
    "\n",
    "import seaborn as sns\n",
    "df = experimento\n",
    "\n",
    "for i in list(experimento.columns):\n",
    "    sns.kdeplot(df[i], shade=True)\n",
    "    plt.show()  \n"
   ]
  },
  {
   "cell_type": "code",
   "execution_count": null,
   "metadata": {},
   "outputs": [],
   "source": []
  },
  {
   "cell_type": "code",
   "execution_count": null,
   "metadata": {},
   "outputs": [],
   "source": [
    "df = experimento\n",
    "\n",
    "for i in list(experimento.columns):\n",
    "# Hist only\n",
    "    sns.distplot( a=df[i], hist=True, kde=False, rug=False )\n",
    "    plt.show()\n"
   ]
  },
  {
   "cell_type": "code",
   "execution_count": null,
   "metadata": {},
   "outputs": [],
   "source": [
    "# use the plot function\n",
    "plt.plot(experimento['50cm'])"
   ]
  },
  {
   "cell_type": "code",
   "execution_count": null,
   "metadata": {},
   "outputs": [],
   "source": [
    "experimento.rolling(window=10).mean()"
   ]
  }
 ],
 "metadata": {
  "kernelspec": {
   "display_name": "Python 2",
   "language": "python",
   "name": "python2"
  },
  "language_info": {
   "codemirror_mode": {
    "name": "ipython",
    "version": 3
   },
   "file_extension": ".py",
   "mimetype": "text/x-python",
   "name": "python",
   "nbconvert_exporter": "python",
   "pygments_lexer": "ipython3",
   "version": "3.7.3"
  }
 },
 "nbformat": 4,
 "nbformat_minor": 2
}
